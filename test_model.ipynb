{
 "cells": [
  {
   "cell_type": "code",
   "execution_count": 1,
   "metadata": {},
   "outputs": [],
   "source": [
    "import torch\n",
    "from torch.utils.data import DataLoader, Dataset\n",
    "import matplotlib.pyplot as plt\n",
    "\n",
    "from collections import defaultdict\n",
    "from PIL import Image, ImageOps\n",
    "import numpy as np\n",
    "import os"
   ]
  },
  {
   "cell_type": "code",
   "execution_count": 2,
   "metadata": {},
   "outputs": [],
   "source": [
    "nasa_files = [\"nasa1.png\", \"nasa2.jpeg\", \"nasa3.jpg\", \"nasa4.jpg\"]\n",
    "dataset_name = \"nasa\""
   ]
  },
  {
   "cell_type": "code",
   "execution_count": 3,
   "metadata": {},
   "outputs": [],
   "source": [
    "class TestDataset(Dataset):\n",
    "    def __init__(self):\n",
    "        super(TestDataset, self).__init__()\n",
    "        self.w, self.h = 512, 71\n",
    "       \n",
    "        self.nasa_images = []\n",
    "        for file in nasa_files:\n",
    "            img = Image.open(f\"test_scenario/preprocess_{file}\").convert('RGB')\n",
    "            img = ImageOps.invert(img).convert('L')\n",
    "            w, h = img.size\n",
    "            img = img.resize((int(w*self.h/h), self.h), Image.ANTIALIAS)\n",
    "            img = img.crop((0, 0, self.w, self.h))\n",
    "            self.nasa_images.append(np.array(img)[np.newaxis,:,:])\n",
    "        self.n_nasa_images = len(self.nasa_images)\n",
    "            \n",
    "        self.images, self.fonts = [], []\n",
    "        fonts = os.listdir(os.path.join(\"data\", dataset_name))\n",
    "        for font in fonts:\n",
    "            font_path = os.path.join(\"data\", dataset_name, font)\n",
    "            filenames = os.listdir(font_path)\n",
    "            for filename in filenames:\n",
    "                self.fonts.append(font)\n",
    "                img = Image.open(os.path.join(font_path, filename)).convert('RGB')\n",
    "                img = ImageOps.invert(img).convert('L')\n",
    "                img = img.crop((0, 0, self.w, self.h))\n",
    "                self.images.append(np.array(img)[np.newaxis,:,:])\n",
    "                \n",
    "            \n",
    "\n",
    "    def __getitem__(self, index):\n",
    "        nasa_image_index = index % self.n_nasa_images\n",
    "        image_index = index // self.n_nasa_images\n",
    "        return (self.nasa_images[nasa_image_index], self.images[image_index], nasa_image_index, self.fonts[image_index])\n",
    "\n",
    "    def __len__(self):\n",
    "        return len(self.nasa_images)*len(self.images)"
   ]
  },
  {
   "cell_type": "code",
   "execution_count": 4,
   "metadata": {},
   "outputs": [],
   "source": [
    "dataset = TestDataset()\n",
    "loader = DataLoader(dataset, batch_size=1, shuffle=False)"
   ]
  },
  {
   "cell_type": "code",
   "execution_count": 5,
   "metadata": {},
   "outputs": [
    {
     "name": "stdout",
     "output_type": "stream",
     "text": [
      "Device: cpu\n"
     ]
    }
   ],
   "source": [
    "device = torch.device('cuda' if torch.cuda.is_available() else 'cpu')\n",
    "print(\"Device:\", device)"
   ]
  },
  {
   "cell_type": "code",
   "execution_count": 6,
   "metadata": {},
   "outputs": [
    {
     "data": {
      "text/plain": [
       "Model(\n",
       "  (conv): Sequential(\n",
       "    (0): Conv2d(1, 32, kernel_size=(3, 3), stride=(1, 1))\n",
       "    (1): MaxPool2d(kernel_size=1, stride=1, padding=0, dilation=1, ceil_mode=False)\n",
       "    (2): Conv2d(32, 32, kernel_size=(3, 3), stride=(1, 1))\n",
       "    (3): MaxPool2d(kernel_size=(2, 3), stride=(2, 3), padding=0, dilation=1, ceil_mode=False)\n",
       "    (4): Dropout(p=0.5, inplace=True)\n",
       "    (5): Conv2d(32, 64, kernel_size=(3, 3), stride=(1, 1))\n",
       "    (6): MaxPool2d(kernel_size=(2, 3), stride=(2, 3), padding=0, dilation=1, ceil_mode=False)\n",
       "    (7): Conv2d(64, 64, kernel_size=(3, 3), stride=(1, 1))\n",
       "    (8): MaxPool2d(kernel_size=(2, 3), stride=(2, 3), padding=0, dilation=1, ceil_mode=False)\n",
       "  )\n",
       "  (siamese_feed_forward): Sequential(\n",
       "    (0): Linear(in_features=6528, out_features=512, bias=True)\n",
       "    (1): Dropout(p=0.5, inplace=True)\n",
       "    (2): ReLU(inplace=True)\n",
       "    (3): Linear(in_features=512, out_features=64, bias=True)\n",
       "    (4): Sigmoid()\n",
       "  )\n",
       "  (feed_forward): Sequential(\n",
       "    (0): Linear(in_features=13056, out_features=512, bias=True)\n",
       "    (1): Dropout(p=0.5, inplace=True)\n",
       "    (2): ReLU(inplace=True)\n",
       "    (3): Linear(in_features=512, out_features=1, bias=True)\n",
       "    (4): Sigmoid()\n",
       "  )\n",
       "  (cos): CosineSimilarity()\n",
       ")"
      ]
     },
     "execution_count": 6,
     "metadata": {},
     "output_type": "execute_result"
    }
   ],
   "source": [
    "model = torch.load(\"test_scenario/model\", map_location=device)\n",
    "model.eval()"
   ]
  },
  {
   "cell_type": "code",
   "execution_count": 7,
   "metadata": {},
   "outputs": [],
   "source": [
    "nasa_font = \"nasalization_old10\""
   ]
  },
  {
   "cell_type": "code",
   "execution_count": 8,
   "metadata": {},
   "outputs": [],
   "source": [
    "predictions_test_scenario = defaultdict(list)\n",
    "\n",
    "for img1, img2, nasa_image_index, font in loader:\n",
    "    img1, img2 = img1.type(torch.FloatTensor).to(device), img2.type(torch.FloatTensor).to(device)\n",
    "    predictions_test_scenario[f\"{nasa_image_index.detach().item()}_{1 if font[0] == nasa_font else 0}\"].append(model(img1, img2).detach().item())"
   ]
  },
  {
   "cell_type": "code",
   "execution_count": 11,
   "metadata": {},
   "outputs": [],
   "source": [
    "def mean(l):\n",
    "    return sum(l)/len(l)"
   ]
  },
  {
   "cell_type": "code",
   "execution_count": 12,
   "metadata": {},
   "outputs": [
    {
     "name": "stdout",
     "output_type": "stream",
     "text": [
      "\n",
      "File nasa1.png:\n",
      "0-  0.4887185792128245\n",
      "1-  0.6166942119598389\n",
      "\n",
      "File nasa2.jpeg:\n",
      "0-  0.5331577393743727\n",
      "1-  0.45645028352737427\n",
      "\n",
      "File nasa3.jpg:\n",
      "0-  0.49675677220026654\n",
      "1-  0.6908255815505981\n",
      "\n",
      "File nasa4.jpg:\n",
      "0-  0.4737853209177653\n",
      "1-  0.4845649302005768\n"
     ]
    }
   ],
   "source": [
    "for i, file in enumerate(nasa_files):\n",
    "    print(f\"\\nFile {file}:\")\n",
    "    print('0- ', mean(predictions_test_scenario[f'{i}_0']))\n",
    "    print('1- ', mean(predictions_test_scenario[f'{i}_1']))"
   ]
  },
  {
   "cell_type": "code",
   "execution_count": 9,
   "metadata": {},
   "outputs": [
    {
     "data": {
      "text/plain": [
       "defaultdict(list,\n",
       "            {'0_1': [0.6166942119598389],\n",
       "             '1_1': [0.45645028352737427],\n",
       "             '2_1': [0.6908255815505981],\n",
       "             '3_1': [0.4845649302005768],\n",
       "             '0_0': [0.5919097661972046,\n",
       "              0.3415098190307617,\n",
       "              0.7525080442428589,\n",
       "              0.4542773962020874,\n",
       "              0.3727078437805176,\n",
       "              0.4778836965560913,\n",
       "              0.6008908152580261,\n",
       "              0.31056517362594604,\n",
       "              0.4962146580219269],\n",
       "             '1_0': [0.4350863993167877,\n",
       "              0.5160147547721863,\n",
       "              0.4732816219329834,\n",
       "              0.6201823949813843,\n",
       "              0.7125406265258789,\n",
       "              0.44790878891944885,\n",
       "              0.4903658330440521,\n",
       "              0.655322253704071,\n",
       "              0.44771698117256165],\n",
       "             '2_0': [0.6231768727302551,\n",
       "              0.41519424319267273,\n",
       "              0.6116672158241272,\n",
       "              0.4475248456001282,\n",
       "              0.41328391432762146,\n",
       "              0.5345057249069214,\n",
       "              0.570127010345459,\n",
       "              0.328426718711853,\n",
       "              0.5269044041633606],\n",
       "             '3_0': [0.4362904131412506,\n",
       "              0.48480403423309326,\n",
       "              0.5854577422142029,\n",
       "              0.38754335045814514,\n",
       "              0.4096001386642456,\n",
       "              0.44739189743995667,\n",
       "              0.6246846914291382,\n",
       "              0.3909375071525574,\n",
       "              0.497358113527298]})"
      ]
     },
     "execution_count": 9,
     "metadata": {},
     "output_type": "execute_result"
    }
   ],
   "source": [
    "predictions_test_scenario"
   ]
  },
  {
   "cell_type": "code",
   "execution_count": null,
   "metadata": {},
   "outputs": [],
   "source": []
  }
 ],
 "metadata": {
  "kernelspec": {
   "display_name": "Python 3",
   "language": "python",
   "name": "python3"
  },
  "language_info": {
   "codemirror_mode": {
    "name": "ipython",
    "version": 3
   },
   "file_extension": ".py",
   "mimetype": "text/x-python",
   "name": "python",
   "nbconvert_exporter": "python",
   "pygments_lexer": "ipython3",
   "version": "3.7.6"
  }
 },
 "nbformat": 4,
 "nbformat_minor": 4
}
