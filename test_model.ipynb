{
 "cells": [
  {
   "cell_type": "code",
   "execution_count": 51,
   "metadata": {},
   "outputs": [],
   "source": [
    "import torch\n",
    "from torch.utils.data import DataLoader, Dataset\n",
    "import matplotlib.pyplot as plt\n",
    "\n",
    "from collections import defaultdict\n",
    "from PIL import Image, ImageOps\n",
    "import numpy as np\n",
    "import os"
   ]
  },
  {
   "cell_type": "code",
   "execution_count": 20,
   "metadata": {},
   "outputs": [],
   "source": [
    "nasa_files = [\"nasa1.png\", \"nasa2.jpeg\", \"nasa3.jpg\", \"nasa4.jpg\"]\n",
    "dataset_name = \"10_fonts_4_sentences\""
   ]
  },
  {
   "cell_type": "code",
   "execution_count": 57,
   "metadata": {},
   "outputs": [],
   "source": [
    "class TestDataset(Dataset):\n",
    "    def __init__(self):\n",
    "        super(TestDataset, self).__init__()\n",
    "        self.w, self.h = 512, 71\n",
    "       \n",
    "        self.nasa_images = []\n",
    "        for file in nasa_files:\n",
    "            img = Image.open(f\"test_scenario/preprocess_{file}\").convert('RGB')\n",
    "            img = ImageOps.invert(img).convert('L')\n",
    "            w, h = img.size\n",
    "            img = img.resize((int(w*self.h/h), self.h), Image.ANTIALIAS)\n",
    "            img = img.crop((0, 0, self.w, self.h))\n",
    "            self.nasa_images.append(np.array(img)[np.newaxis,:,:])\n",
    "        self.n_nasa_images = len(self.nasa_images)\n",
    "            \n",
    "        self.images, self.fonts = [], []\n",
    "        fonts = os.listdir(os.path.join(\"data\", dataset_name))\n",
    "        for font in fonts:\n",
    "            font_path = os.path.join(\"data\", dataset_name, font)\n",
    "            filenames = os.listdir(font_path)\n",
    "            for filename in filenames:\n",
    "                self.fonts.append(font)\n",
    "                img = Image.open(os.path.join(font_path, filename)).convert('RGB')\n",
    "                img = ImageOps.invert(img).convert('L')\n",
    "                img = img.crop((0, 0, self.w, self.h))\n",
    "                self.images.append(np.array(img)[np.newaxis,:,:])\n",
    "                \n",
    "            \n",
    "\n",
    "    def __getitem__(self, index):\n",
    "        nasa_image_index = index % self.n_nasa_images\n",
    "        image_index = index // self.n_nasa_images\n",
    "        return (self.nasa_images[nasa_image_index], self.images[image_index], nasa_image_index, self.fonts[image_index])\n",
    "\n",
    "    def __len__(self):\n",
    "        return len(self.nasa_images)*len(self.images)"
   ]
  },
  {
   "cell_type": "code",
   "execution_count": 58,
   "metadata": {},
   "outputs": [],
   "source": [
    "dataset = TestDataset()\n",
    "loader = DataLoader(dataset, batch_size=1, shuffle=False)"
   ]
  },
  {
   "cell_type": "code",
   "execution_count": 59,
   "metadata": {},
   "outputs": [
    {
     "name": "stdout",
     "output_type": "stream",
     "text": [
      "Device: cpu\n"
     ]
    }
   ],
   "source": [
    "device = torch.device('cuda' if torch.cuda.is_available() else 'cpu')\n",
    "print(\"Device:\", device)"
   ]
  },
  {
   "cell_type": "code",
   "execution_count": 16,
   "metadata": {
    "collapsed": true,
    "jupyter": {
     "outputs_hidden": true
    }
   },
   "outputs": [
    {
     "data": {
      "text/plain": [
       "Model(\n",
       "  (conv): Sequential(\n",
       "    (0): Conv2d(1, 32, kernel_size=(3, 3), stride=(1, 1))\n",
       "    (1): MaxPool2d(kernel_size=1, stride=1, padding=0, dilation=1, ceil_mode=False)\n",
       "    (2): Conv2d(32, 32, kernel_size=(3, 3), stride=(1, 1))\n",
       "    (3): MaxPool2d(kernel_size=(2, 3), stride=(2, 3), padding=0, dilation=1, ceil_mode=False)\n",
       "    (4): Dropout(p=0.5, inplace=True)\n",
       "    (5): Conv2d(32, 64, kernel_size=(3, 3), stride=(1, 1))\n",
       "    (6): MaxPool2d(kernel_size=(2, 3), stride=(2, 3), padding=0, dilation=1, ceil_mode=False)\n",
       "    (7): Conv2d(64, 64, kernel_size=(3, 3), stride=(1, 1))\n",
       "    (8): MaxPool2d(kernel_size=(2, 3), stride=(2, 3), padding=0, dilation=1, ceil_mode=False)\n",
       "  )\n",
       "  (siamese_feed_forward): Sequential(\n",
       "    (0): Linear(in_features=6528, out_features=512, bias=True)\n",
       "    (1): Dropout(p=0.5, inplace=True)\n",
       "    (2): ReLU(inplace=True)\n",
       "    (3): Linear(in_features=512, out_features=64, bias=True)\n",
       "    (4): Sigmoid()\n",
       "  )\n",
       "  (feed_forward): Sequential(\n",
       "    (0): Linear(in_features=13056, out_features=512, bias=True)\n",
       "    (1): Dropout(p=0.5, inplace=True)\n",
       "    (2): ReLU(inplace=True)\n",
       "    (3): Linear(in_features=512, out_features=1, bias=True)\n",
       "    (4): Sigmoid()\n",
       "  )\n",
       "  (cos): CosineSimilarity()\n",
       ")"
      ]
     },
     "execution_count": 16,
     "metadata": {},
     "output_type": "execute_result"
    }
   ],
   "source": [
    "model = torch.load(\"test_scenario/model\", map_location=device)\n",
    "model.eval()"
   ]
  },
  {
   "cell_type": "code",
   "execution_count": 60,
   "metadata": {},
   "outputs": [],
   "source": [
    "nasa_font = \"nasalization_old10\""
   ]
  },
  {
   "cell_type": "code",
   "execution_count": 61,
   "metadata": {},
   "outputs": [],
   "source": [
    "predictions_test_scenario = defaultdict(list)\n",
    "\n",
    "for img1, img2, nasa_image_index, font in loader:\n",
    "    img1, img2 = img1.type(torch.FloatTensor).to(device), img2.type(torch.FloatTensor).to(device)\n",
    "    predictions_test_scenario[f\"{nasa_image_index.detach().item()}_{1 if font[0] == nasa_font else 0}\"].append(model(img1, img2).detach().item())"
   ]
  },
  {
   "cell_type": "code",
   "execution_count": 62,
   "metadata": {},
   "outputs": [],
   "source": [
    "def mean(l):\n",
    "    return sum(l)/len(l)"
   ]
  },
  {
   "cell_type": "code",
   "execution_count": 63,
   "metadata": {},
   "outputs": [
    {
     "name": "stdout",
     "output_type": "stream",
     "text": [
      "\n",
      "File nasa1.png:\n",
      "0-  0.7222222222222222\n",
      "1-  1.0\n",
      "\n",
      "File nasa2.jpeg:\n",
      "0-  0.5833333333333334\n",
      "1-  0.75\n",
      "\n",
      "File nasa3.jpg:\n",
      "0-  0.4722222222222222\n",
      "1-  0.75\n",
      "\n",
      "File nasa4.jpg:\n",
      "0-  0.4722222222222222\n",
      "1-  0.75\n"
     ]
    }
   ],
   "source": [
    "for i, file in enumerate(nasa_files):\n",
    "    print(f\"\\nFile {file}:\")\n",
    "    print('0- ', mean(predictions_test_scenario[f'{i}_0']))\n",
    "    print('1- ', mean(predictions_test_scenario[f'{i}_1']))"
   ]
  },
  {
   "cell_type": "code",
   "execution_count": null,
   "metadata": {},
   "outputs": [],
   "source": []
  }
 ],
 "metadata": {
  "kernelspec": {
   "display_name": "Python 3",
   "language": "python",
   "name": "python3"
  },
  "language_info": {
   "codemirror_mode": {
    "name": "ipython",
    "version": 3
   },
   "file_extension": ".py",
   "mimetype": "text/x-python",
   "name": "python",
   "nbconvert_exporter": "python",
   "pygments_lexer": "ipython3",
   "version": "3.7.6"
  }
 },
 "nbformat": 4,
 "nbformat_minor": 4
}
